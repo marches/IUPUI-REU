{
 "cells": [
  {
   "cell_type": "code",
   "execution_count": null,
   "metadata": {},
   "outputs": [],
   "source": [
    "import pandas as pd\n",
    "import numpy as np\n",
    "from math import *\n",
    "from random import *\n",
    "import datetime as datetime\n",
    "import matplotlib.pyplot as plt\n",
    "import math\n",
    "from numpy import unravel_index\n",
    "from PointProcess import PointProcessTrain\n",
    "from PointProcess import PointProcessRun\n",
    "from wasserstein import Cluster\n",
    "from numpy import array"
   ]
  },
  {
   "cell_type": "code",
   "execution_count": null,
   "metadata": {},
   "outputs": [],
   "source": [
    "plt.rcParams.update({'font.size': 15, 'text.color' : \"black\",\n",
    "                     'axes.labelcolor' : \"black\"})\n",
    "\n",
    "labels=['1Hr',\n",
    "        '2Hr',\n",
    "        '4Hr']\n",
    "\n",
    "pais = [pai_1h,  pai_2h, pai_4h]\n",
    "labels=['1Hr', '1H sim',\n",
    "        '2Hr', '2H sim', \n",
    "        '4Hr', '4H sim']\n",
    "\n",
    "pais = [pai_1h, pai_1h_sim, pai_2h, pai_2h_sim, pai_4h,pai_4h_sim]\n",
    "\n",
    "\n",
    "\n",
    "fig = plt.figure(figsize=(10,2))\n",
    "\n",
    "ax = fig.add_subplot(111)\n",
    "\n",
    "ax.set_xlabel(\"PAI\")\n",
    "medianprops = dict(linestyle='-.', linewidth=2.5, color='black')\n",
    "bp = ax.boxplot(pais, vert = False, medianprops=medianprops)\n",
    "plt.yticks([1, 2, 3,4,5,6], labels)\n",
    "\n",
    "for whisker in bp['whiskers']:\n",
    "    whisker.set(color='black',lw=2)\n",
    "for box in bp['boxes']:\n",
    "    box.set(color='black', lw=2)\n",
    "for flier in bp['fliers']:\n",
    "    box.set(color='black', lw=2)\n",
    "for median in bp['caps']:\n",
    "    box.set(color='black', lw=2)\n",
    "for median in bp['means']:\n",
    "    box.set(color='black', lw=2)\n",
    "\n",
    "\n",
    "#plt.title('Predictive Accuracy Index for 50 Predictions \\nOver 1, 2, and 4 Hrs')\n",
    "\n",
    "plt.show()"
   ]
  }
 ],
 "metadata": {
  "kernelspec": {
   "display_name": "Python 3",
   "language": "python",
   "name": "python3"
  },
  "language_info": {
   "codemirror_mode": {
    "name": "ipython",
    "version": 3
   },
   "file_extension": ".py",
   "mimetype": "text/x-python",
   "name": "python",
   "nbconvert_exporter": "python",
   "pygments_lexer": "ipython3",
   "version": "3.6.5"
  }
 },
 "nbformat": 4,
 "nbformat_minor": 2
}
