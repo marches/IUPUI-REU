{
 "cells": [
  {
   "cell_type": "code",
   "execution_count": 2,
   "metadata": {
    "collapsed": true
   },
   "outputs": [],
   "source": [
    "from random import *\n",
    "from math import *\n",
    "from array import *\n",
    "import matplotlib.pyplot as plt\n",
    "import numpy as np\n",
    "import pandas as pd \n",
    "from mpl_toolkits.mplot3d import Axes3D"
   ]
  },
  {
   "cell_type": "code",
   "execution_count": 3,
   "metadata": {
    "collapsed": true
   },
   "outputs": [],
   "source": [
    "def pois(S):\n",
    "    if S <= 100:\n",
    "        temp = -1*S\n",
    "        L = exp(temp)\n",
    "        k = 0\n",
    "        p = 1\n",
    "        while p > L:\n",
    "            k = k + 1\n",
    "            p = p * random()\n",
    "        p = k - 1\n",
    "    else:\n",
    "        p = floor(S + sqrt(S) * random())\n",
    "    return int(p)"
   ]
  },
  {
   "cell_type": "code",
   "execution_count": 4,
   "metadata": {
    "collapsed": true
   },
   "outputs": [],
   "source": [
    "# Haversian distance function\n",
    "def getDistanceFromLatLonInKm(lat1,lon1,lat2,lon2):\n",
    "    R = 6371 # Radius of the earth in km\n",
    "    dLat = deg2rad(lat2-lat1)  # deg2rad below\n",
    "    dLon = deg2rad(lon2-lon1)\n",
    "    a = sin(dLat/2) * sin(dLat/2) + cos(deg2rad(lat1)) * cos(deg2rad(lat2)) * sin(dLon/2) * sin(dLon/2)\n",
    "    c = 2 * atan2(sqrt(a), sqrt(1-a))\n",
    "    d = R * c # Distance in km\n",
    "    return d;\n",
    "\n",
    "def deg2rad(deg):\n",
    "    return deg * (pi/180)"
   ]
  },
  {
   "cell_type": "code",
   "execution_count": 14,
   "metadata": {},
   "outputs": [],
   "source": [
    "data = pd.read_csv('/la_text_data_time.csv')\n",
    "data = data[['CRIMETYPE', 'X', 'Y', 'time']]\n",
    "data = data.sort_values(by = ['time'])\n",
    "data = data.reset_index(drop = True)\n",
    "eventLs = list(set(data['CRIMETYPE']))"
   ]
  },
  {
   "cell_type": "code",
   "execution_count": 27,
   "metadata": {
    "collapsed": true
   },
   "outputs": [],
   "source": [
    "# locate index of cell for this event\n",
    "def clocate(x,y,minlat,minlong):\n",
    "    return int(ceil(distance.euclidean(x, minlat)/1150)-1), int(ceil(distance.euclidean(y, minlon)/1000)-1)\n",
    "def glocate(x,y,minlat,minlong):\n",
    "    x_km = getDistanceFromLatLonInKm(x, y, minlat, y)\n",
    "    y_km = getDistanceFromLatLonInKm(x, y, x, minlong)\n",
    "    return int(ceil(x_km-1)), int(ceil(y_km-1))\n",
    "# updates over every cell\n",
    "def global_update(w, time_all_1,time_all_0, Ajk, mu_jk, theta):\n",
    "    Ajk = Ajk * np.exp(-1*w*(time_all_1-time_all_0)) \n",
    "    Lam_jk = mu_jk + theta*w*Ajk\n",
    "    return Ajk, Lam_jk\n",
    "# updates for a single cell\n",
    "def event_update(mu_g, theta, w, A_g, Lam_g, time_all, time_prev,i):\n",
    "    dt = 0.00025\n",
    "    mu_g = mu_g + dt * (mu_g/Lam_g - mu_g*(time_all[i]-time_prev))\n",
    "    theta = theta + dt * (A_g/Lam_g - theta)\n",
    "    A_g = A_g + 1\n",
    "    Lam_g = mu_g + theta*w*A_g\n",
    "    return mu_g, theta, A_g, Lam_g"
   ]
  },
  {
   "cell_type": "code",
   "execution_count": 53,
   "metadata": {},
   "outputs": [
    {
     "name": "stdout",
     "output_type": "stream",
     "text": [
      "0.00257396697998 first\n",
      "2.24679803848 sec\n",
      "0.00988793373108 third\n",
      "0.000553846359253 first\n",
      "1.88939189911 sec\n",
      "0.00934791564941 third\n",
      "0.000365972518921 first\n",
      "2.33616781235 sec\n",
      "0.00938200950623 third\n",
      "0.00082802772522 first\n",
      "2.24460291862 sec\n",
      "0.000850915908813 third\n",
      "0.000293016433716 first\n",
      "2.20815420151 sec\n",
      "0.00116300582886 third\n",
      "0.000332832336426 first\n",
      "2.62010788918 sec\n",
      "0.00937819480896 third\n",
      "0.000230073928833 first\n",
      "2.66310691833 sec\n",
      "0.0103402137756 third\n",
      "0.00023078918457 first\n",
      "2.34548807144 sec\n",
      "0.00103807449341 third\n",
      "0.000723123550415 first\n",
      "2.4533200264 sec\n",
      "0.00134706497192 third\n",
      "0.000507116317749 first\n",
      "2.2158510685 sec\n",
      "0.00101089477539 third\n",
      "0.000442028045654 first\n",
      "2.82921910286 sec\n",
      "0.00156903266907 third\n",
      "0.00034499168396 first\n"
     ]
    },
    {
     "ename": "KeyboardInterrupt",
     "evalue": "",
     "output_type": "error",
     "traceback": [
      "\u001b[0;31m---------------------------------------------------------------------------\u001b[0m",
      "\u001b[0;31mKeyboardInterrupt\u001b[0m                         Traceback (most recent call last)",
      "\u001b[0;32m<ipython-input-53-73da7614819a>\u001b[0m in \u001b[0;36m<module>\u001b[0;34m()\u001b[0m\n\u001b[1;32m     39\u001b[0m     \u001b[0;32mfor\u001b[0m \u001b[0mj\u001b[0m \u001b[0;32min\u001b[0m \u001b[0mrange\u001b[0m\u001b[0;34m(\u001b[0m\u001b[0mnx\u001b[0m\u001b[0;34m)\u001b[0m\u001b[0;34m:\u001b[0m\u001b[0;34m\u001b[0m\u001b[0m\n\u001b[1;32m     40\u001b[0m         \u001b[0;32mfor\u001b[0m \u001b[0mk\u001b[0m \u001b[0;32min\u001b[0m \u001b[0mrange\u001b[0m\u001b[0;34m(\u001b[0m\u001b[0mny\u001b[0m\u001b[0;34m)\u001b[0m\u001b[0;34m:\u001b[0m\u001b[0;34m\u001b[0m\u001b[0m\n\u001b[0;32m---> 41\u001b[0;31m             \u001b[0;34m[\u001b[0m\u001b[0mAls\u001b[0m\u001b[0;34m[\u001b[0m\u001b[0meventType\u001b[0m\u001b[0;34m]\u001b[0m\u001b[0;34m[\u001b[0m\u001b[0mj\u001b[0m\u001b[0;34m]\u001b[0m\u001b[0;34m[\u001b[0m\u001b[0mk\u001b[0m\u001b[0;34m]\u001b[0m\u001b[0;34m,\u001b[0m \u001b[0mLambdals\u001b[0m\u001b[0;34m[\u001b[0m\u001b[0meventType\u001b[0m\u001b[0;34m]\u001b[0m\u001b[0;34m[\u001b[0m\u001b[0mj\u001b[0m\u001b[0;34m]\u001b[0m\u001b[0;34m[\u001b[0m\u001b[0mk\u001b[0m\u001b[0;34m]\u001b[0m\u001b[0;34m]\u001b[0m  \u001b[0;34m=\u001b[0m \u001b[0mglobal_update\u001b[0m\u001b[0;34m(\u001b[0m\u001b[0mw\u001b[0m\u001b[0;34m,\u001b[0m \u001b[0mdata\u001b[0m\u001b[0;34m[\u001b[0m\u001b[0;34m'time'\u001b[0m\u001b[0;34m]\u001b[0m\u001b[0;34m[\u001b[0m\u001b[0mi\u001b[0m\u001b[0;34m]\u001b[0m\u001b[0;34m,\u001b[0m\u001b[0mdata\u001b[0m\u001b[0;34m[\u001b[0m\u001b[0;34m'time'\u001b[0m\u001b[0;34m]\u001b[0m\u001b[0;34m[\u001b[0m\u001b[0mi\u001b[0m\u001b[0;34m-\u001b[0m\u001b[0;36m1\u001b[0m\u001b[0;34m]\u001b[0m\u001b[0;34m,\u001b[0m \u001b[0mAls\u001b[0m\u001b[0;34m[\u001b[0m\u001b[0meventType\u001b[0m\u001b[0;34m]\u001b[0m\u001b[0;34m[\u001b[0m\u001b[0mj\u001b[0m\u001b[0;34m]\u001b[0m\u001b[0;34m[\u001b[0m\u001b[0mk\u001b[0m\u001b[0;34m]\u001b[0m\u001b[0;34m,\u001b[0m \u001b[0mmuls\u001b[0m\u001b[0;34m[\u001b[0m\u001b[0meventType\u001b[0m\u001b[0;34m]\u001b[0m\u001b[0;34m[\u001b[0m\u001b[0mj\u001b[0m\u001b[0;34m]\u001b[0m\u001b[0;34m[\u001b[0m\u001b[0mk\u001b[0m\u001b[0;34m]\u001b[0m\u001b[0;34m,\u001b[0m \u001b[0mTheta\u001b[0m\u001b[0;34m[\u001b[0m\u001b[0mi\u001b[0m\u001b[0;34m-\u001b[0m\u001b[0;36m1\u001b[0m\u001b[0;34m]\u001b[0m\u001b[0;34m)\u001b[0m\u001b[0;34m\u001b[0m\u001b[0m\n\u001b[0m\u001b[1;32m     42\u001b[0m     \u001b[0;31m# event cell update\u001b[0m\u001b[0;34m\u001b[0m\u001b[0;34m\u001b[0m\u001b[0m\n\u001b[1;32m     43\u001b[0m     \u001b[0;32mprint\u001b[0m \u001b[0mtime\u001b[0m\u001b[0;34m.\u001b[0m\u001b[0mtime\u001b[0m\u001b[0;34m(\u001b[0m\u001b[0;34m)\u001b[0m\u001b[0;34m-\u001b[0m\u001b[0mt0\u001b[0m\u001b[0;34m,\u001b[0m \u001b[0;34m\"sec\"\u001b[0m\u001b[0;34m\u001b[0m\u001b[0m\n",
      "\u001b[0;32m/Users/snoopyhaimaxuan/anaconda2/lib/python2.7/site-packages/pandas/core/frame.pyc\u001b[0m in \u001b[0;36m__getitem__\u001b[0;34m(self, key)\u001b[0m\n\u001b[1;32m   1942\u001b[0m \u001b[0;34m\u001b[0m\u001b[0m\n\u001b[1;32m   1943\u001b[0m         \u001b[0;31m# shortcut if we are an actual column\u001b[0m\u001b[0;34m\u001b[0m\u001b[0;34m\u001b[0m\u001b[0m\n\u001b[0;32m-> 1944\u001b[0;31m         \u001b[0mis_mi_columns\u001b[0m \u001b[0;34m=\u001b[0m \u001b[0misinstance\u001b[0m\u001b[0;34m(\u001b[0m\u001b[0mself\u001b[0m\u001b[0;34m.\u001b[0m\u001b[0mcolumns\u001b[0m\u001b[0;34m,\u001b[0m \u001b[0mMultiIndex\u001b[0m\u001b[0;34m)\u001b[0m\u001b[0;34m\u001b[0m\u001b[0m\n\u001b[0m\u001b[1;32m   1945\u001b[0m         \u001b[0;32mtry\u001b[0m\u001b[0;34m:\u001b[0m\u001b[0;34m\u001b[0m\u001b[0m\n\u001b[1;32m   1946\u001b[0m             \u001b[0;32mif\u001b[0m \u001b[0mkey\u001b[0m \u001b[0;32min\u001b[0m \u001b[0mself\u001b[0m\u001b[0;34m.\u001b[0m\u001b[0mcolumns\u001b[0m \u001b[0;32mand\u001b[0m \u001b[0;32mnot\u001b[0m \u001b[0mis_mi_columns\u001b[0m\u001b[0;34m:\u001b[0m\u001b[0;34m\u001b[0m\u001b[0m\n",
      "\u001b[0;31mKeyboardInterrupt\u001b[0m: "
     ]
    }
   ],
   "source": [
    "import time\n",
    "\n",
    "minlat=min(data['X'])\n",
    "minlong=min(data['Y'])\n",
    "\n",
    "#N = len(data)\n",
    "N = 10000\n",
    "w = 3\n",
    "nx = 143\n",
    "ny = 230\n",
    "K = len(eventLs)\n",
    "t = [0] * nx\n",
    "mu = [0] * nx\n",
    "A = [0] * nx\n",
    "Lambda = [0]*nx\n",
    "for i in range(nx):\n",
    "    t[i] = [0] * ny\n",
    "    mu[i] = [0] * ny\n",
    "    A[i] = [0] * ny\n",
    "    Lambda[i] = [0]*ny\n",
    "Theta = [0] * N\n",
    "Theta[0] = 3\n",
    "for i in range(nx):\n",
    "    A[i] = [1]*ny\n",
    "    mu[i] = [0.001]*ny\n",
    "tls = {eventLs[k]: t for k in range(K)}\n",
    "Als = {eventLs[k]: A for k in range(K)}\n",
    "muls = {eventLs[k]: mu for k in range(K)}\n",
    "Lambdals = {eventLs[k]: Lambda for k in range(K)}\n",
    "\n",
    "for i in range (1,N):    \n",
    "    eventType = data['CRIMETYPE'][i]\n",
    "    t0=time.time()\n",
    "    [gx, gy] = clocate(data['X'][i],data['Y'][i],minlat,minlong)\n",
    "    print time.time()-t0, \"first\"\n",
    "    # overall update\n",
    "    \n",
    "    t0=time.time()\n",
    "    for j in range(nx):\n",
    "        for k in range(ny):\n",
    "            [Als[eventType][j][k], Lambdals[eventType][j][k]]  = global_update(w, data['time'][i],data['time'][i-1], Als[eventType][j][k], muls[eventType][j][k], Theta[i-1])\n",
    "    # event cell update\n",
    "    print time.time()-t0, \"sec\"\n",
    "    \n",
    "    t0=time.time()\n",
    "    [muls[eventType][gx][gy], Theta[i], Als[eventType][gx][gy], Lambdals[eventType][gx][gy]] = event_update(muls[eventType][gx][gy], Theta[i-1], w, Als[eventType][gx][gy], Lambdals[eventType][gx][gy], data['time'][range(i+1)], tls[eventType][gx][gy],i)\n",
    "    print time.time()-t0, \"third\"\n",
    "    # keep track of the previous time for each event type \n",
    "    tls[eventType][gx][gy] = data['time'][i]\n",
    "\n"
   ]
  },
  {
   "cell_type": "code",
   "execution_count": 51,
   "metadata": {},
   "outputs": [
    {
     "name": "stdout",
     "output_type": "stream",
     "text": [
      "102\n",
      "196\n"
     ]
    }
   ],
   "source": [
    "[gx, gy] = clocate(data['X'][i],data['Y'][i],minlat,minlong)\n",
    "\n",
    "print gx\n",
    "print gy"
   ]
  },
  {
   "cell_type": "code",
   "execution_count": null,
   "metadata": {
    "collapsed": true
   },
   "outputs": [],
   "source": []
  }
 ],
 "metadata": {
  "kernelspec": {
   "display_name": "Python 3",
   "language": "python",
   "name": "python3"
  },
  "language_info": {
   "codemirror_mode": {
    "name": "ipython",
    "version": 3
   },
   "file_extension": ".py",
   "mimetype": "text/x-python",
   "name": "python",
   "nbconvert_exporter": "python",
   "pygments_lexer": "ipython3",
   "version": "3.6.4"
  }
 },
 "nbformat": 4,
 "nbformat_minor": 2
}
