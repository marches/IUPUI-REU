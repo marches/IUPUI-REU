{
 "cells": [
  {
   "cell_type": "code",
   "execution_count": 1,
   "metadata": {},
   "outputs": [],
   "source": [
    "import pandas as pd\n",
    "import numpy as np\n",
    "from math import *\n",
    "from random import *\n",
    "import datetime as datetime\n",
    "import matplotlib.pyplot as plt\n",
    "import math\n",
    "from numpy import unravel_index\n",
    "from PointProcess import PointProcessTrain\n",
    "from PointProcess import PointProcessRun\n",
    "from wasserstein import Cluster\n",
    "from numpy import array\n",
    "from scipy import linalg as la"
   ]
  },
  {
   "cell_type": "code",
   "execution_count": 2,
   "metadata": {},
   "outputs": [],
   "source": [
    "interval_count = 10\n",
    "PointProcess = PointProcessRun(param_location = 'Trained_Params_100_100.npz')\n",
    "start_time = start_time = datetime.datetime.fromtimestamp(1465798259)\n",
    "grid_loc = PointProcess.locs_for_wasserstein (start_time, interval_count, 80)"
   ]
  },
  {
   "cell_type": "code",
   "execution_count": 3,
   "metadata": {},
   "outputs": [
    {
     "name": "stdout",
     "output_type": "stream",
     "text": [
      "[1.2152656986076822, 500.0]\n",
      "[1.2268054392810663, 520.0]\n",
      "[1.208147176569468, 518.0]\n",
      "[1.3264559878014623, 513.25]\n",
      "[1.3540716684834573, 516.25]\n",
      "Iteration:  3\n"
     ]
    },
    {
     "data": {
      "text/plain": [
       "'\\nfor i in range(0, len(centers)):\\n    x, y = simulation.coord_to_grid(centers[i][1], centers[i][0])\\n    centers_grid_x[i] = x\\n    centers_grid_y[i] = y\\ncenters_grid_x, centers_grid_y\\n'"
      ]
     },
     "execution_count": 3,
     "metadata": {},
     "output_type": "execute_result"
    }
   ],
   "source": [
    "cluster = Cluster(grid_loc, n = 20)\n",
    "cluster.randomize_centers()\n",
    "lam = cluster.learn_lam(n_iter = 5, rand_centers = True)\n",
    "centers= cluster.get_centers()\n",
    "centers_grid_x = np.zeros(len(centers))\n",
    "centers_grid_y = np.zeros(len(centers))\n",
    "\n",
    "'''\n",
    "for i in range(0, len(centers)):\n",
    "    x, y = simulation.coord_to_grid(centers[i][1], centers[i][0])\n",
    "    centers_grid_x[i] = x\n",
    "    centers_grid_y[i] = y\n",
    "centers_grid_x, centers_grid_y\n",
    "'''"
   ]
  },
  {
   "cell_type": "code",
   "execution_count": 4,
   "metadata": {
    "scrolled": true
   },
   "outputs": [
    {
     "data": {
      "image/png": "[encoded data removed]",
      "text/plain": [
       "<Figure size 432x288 with 1 Axes>"
      ]
     },
     "metadata": {},
     "output_type": "display_data"
    }
   ],
   "source": [
    "interval_count = 10\n",
    "bincount = 80\n",
    "data = grid_loc\n",
    "end_time = start_time + datetime.timedelta(seconds = 15*60*interval_count)\n",
    "heatmap, xedges, yedges = np.histogram2d(data[:,1], data[:,0], bins = bincount)\n",
    "extent = [xedges[0], xedges[-1], yedges[0], yedges[-1]]\n",
    "\n",
    "plt.clf()\n",
    "plt.title ('From {} to {}'.format(str(start_time), str(end_time)))\n",
    "plt.imshow(heatmap.T, extent=extent, origin='lower')\n",
    "plt.scatter(centers[:,1], centers[:,0], c = 'red', s = 100, alpha = 0.5)\n",
    "plt.savefig ('wasserstein_graph.png', bbox_inches='tight')\n",
    "plt.show()\n",
    "plt.close()\n"
   ]
  },
  {
   "cell_type": "code",
   "execution_count": 5,
   "metadata": {},
   "outputs": [],
   "source": [
    "data = cluster.get_data()"
   ]
  },
  {
   "cell_type": "code",
   "execution_count": 7,
   "metadata": {},
   "outputs": [
    {
     "name": "stdout",
     "output_type": "stream",
     "text": [
      "[1.3242138765698708, 500.0]\n",
      "[1.2871196270525775, 520.0]\n",
      "[1.3933578305682737, 539.0]\n",
      "[1.2276213877097615, 538.0]\n",
      "[1.366805231333439, 533.5]\n",
      "Iteration:  4\n",
      "[1.3693134043295951, 500.0]\n",
      "[1.3530763866021804, 520.0]\n",
      "[1.3981162286476192, 539.0]\n",
      "[1.3446370726686516, 538.0]\n",
      "[1.322029002851518, 533.5]\n",
      "Iteration:  5\n",
      "[1.4097437700476319, 500.0]\n",
      "[1.4216606404590244, 520.0]\n",
      "[1.4404043703809117, 519.0]\n",
      "[1.3982812514679719, 522.0]\n",
      "[1.3500378079651778, 541.0]\n",
      "Iteration:  5\n",
      "[1.3727343944324355, 500.0]\n",
      "[1.4379954757701001, 520.0]\n",
      "[1.3999827838411363, 518.0]\n",
      "[1.4498819923708537, 516.0]\n",
      "[1.4743644707088344, 517.0]\n",
      "Iteration:  1\n",
      "[1.5057857252158495, 500.0]\n",
      "[1.5148584340656341, 520.0]\n",
      "[1.477653295696311, 518.0]\n",
      "[1.5060065405925023, 513.25]\n",
      "[1.3984911331062093, 517.25]\n",
      "Iteration:  5\n",
      "[1.480355247984472, 500.0]\n",
      "[1.4646331803365424, 520.0]\n",
      "[1.5749791595089004, 539.0]\n",
      "[1.45686046586816, 537.0]\n",
      "[1.514464819558378, 532.5]\n",
      "Iteration:  4\n",
      "[1.5786642470786119, 500.0]\n",
      "[1.5170765707575062, 520.0]\n",
      "[1.5667233704262542, 539.0]\n",
      "[1.5354818654253046, 536.0]\n",
      "[1.5889887718745628, 535.0]\n",
      "Iteration:  2\n",
      "[1.6151615705842501, 500.0]\n",
      "[1.670884174307048, 520.0]\n",
      "[1.616434051149099, 517.0]\n",
      "[1.6632270421521285, 516.0]\n",
      "[1.6370908013786953, 520.0]\n",
      "Iteration:  1\n",
      "[1.6570118474442275, 500.0]\n",
      "[1.6419886934095527, 520.0]\n",
      "[1.7274714645876668, 539.0]\n",
      "[1.7133295958886108, 535.0]\n",
      "[1.6744356324448955, 533.0]\n",
      "Iteration:  2\n",
      "[1.7790783343271843, 500.0]\n",
      "[1.7136258173218262, 520.0]\n",
      "[1.7427389283041805, 539.0]\n",
      "[1.7537937388093117, 535.0]\n",
      "[1.8050358654193808, 536.0]\n",
      "Iteration:  2\n"
     ]
    }
   ],
   "source": [
    "all_driving = np.empty ([0])\n",
    "for x in range (10):\n",
    "    point = np.random.choice(np.arange(len(data)), replace = False, size = 1)\n",
    "    emergency = data [point, 0:2]\n",
    "    emergency = emergency.flatten()\n",
    "\n",
    "    #find closest center\n",
    "    mindist = 9999\n",
    "    for i in range (len(centers)):\n",
    "        dist = la.norm (centers [i, 0:2] - emergency)\n",
    "        if (dist < mindist):\n",
    "            mindist = dist\n",
    "            truck_point = centers [i, 0:2]\n",
    "            pos = i\n",
    "    centers = np.delete (centers, pos, 0)        \n",
    "    #find driving distance to that point\n",
    "    driving_distance = cluster.driving_distance (emergency, truck_point)\n",
    "    all_driving = np.append (all_driving, driving_distance)\n",
    "    \n",
    "    cluster = Cluster(grid_loc, n = len(centers))\n",
    "    cluster.randomize_centers()\n",
    "    lam = cluster.learn_lam(n_iter = 5, rand_centers = True)\n",
    "    centers = cluster.get_centers()"
   ]
  },
  {
   "cell_type": "code",
   "execution_count": 9,
   "metadata": {},
   "outputs": [
    {
     "data": {
      "text/plain": [
       "3.9348"
      ]
     },
     "execution_count": 9,
     "metadata": {},
     "output_type": "execute_result"
    }
   ],
   "source": [
    "all_driving.mean()"
   ]
  },
  {
   "cell_type": "code",
   "execution_count": null,
   "metadata": {},
   "outputs": [],
   "source": []
  }
 ],
 "metadata": {
  "kernelspec": {
   "display_name": "Python3.5Test",
   "language": "python",
   "name": "python3.5test"
  },
  "language_info": {
   "codemirror_mode": {
    "name": "ipython",
    "version": 3
   },
   "file_extension": ".py",
   "mimetype": "text/x-python",
   "name": "python",
   "nbconvert_exporter": "python",
   "pygments_lexer": "ipython3",
   "version": "3.5.4"
  }
 },
 "nbformat": 4,
 "nbformat_minor": 2
}
