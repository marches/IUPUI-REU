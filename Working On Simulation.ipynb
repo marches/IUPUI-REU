{
 "cells": [
  {
   "cell_type": "code",
   "execution_count": 7,
   "metadata": {},
   "outputs": [],
   "source": [
    "import pandas as pd\n",
    "import numpy as np\n",
    "from math import *\n",
    "from random import *\n",
    "import datetime as datetime\n",
    "import matplotlib.pyplot as plt\n",
    "import math\n",
    "from numpy import unravel_index\n",
    "from PointProcess import PointProcessTrain\n",
    "from PointProcess import PointProcessRun\n",
    "from numpy import array"
   ]
  },
  {
   "cell_type": "code",
   "execution_count": 8,
   "metadata": {},
   "outputs": [],
   "source": [
    "# real data\n",
    "fields = ['XCOORD', 'YCOORD', 'CALL_TYPE_FINAL_D', 'CALL_TYPE_FINAL', 'DATE_TIME']\n",
    "full_data = pd.read_csv('FixedLatLongTimeLoc_AndTimeSorted.csv', usecols=fields)\n",
    "full_data['DATE_TIME'] =  pd.to_datetime(full_data['DATE_TIME'], format='%Y-%m-%d %H:%M:%S')\n",
    "full_data = full_data.sort_values(by='DATE_TIME')"
   ]
  },
  {
   "cell_type": "code",
   "execution_count": 358,
   "metadata": {},
   "outputs": [],
   "source": [
    "# trained parameters for testing\n",
    "trained = np.load('50by50w2_75_5.npz')\n",
    "theta = trained['theta'][-1]\n",
    "mu = trained['mu'][-1]\n",
    "w = trained['w']\n",
    "xsize = trained['xsize']\n",
    "ysize = trained['ysize']"
   ]
  },
  {
   "cell_type": "code",
   "execution_count": 359,
   "metadata": {},
   "outputs": [],
   "source": [
    "def ESTProcess(mu, theta, w, T):\n",
    "    # mu units: #/day, k0 units: #/day, w units: #/day, T units: days?\n",
    "    \n",
    "    # base number of events\n",
    "    p = np.random.poisson(mu*T)\n",
    "    \n",
    "    times = np.random.uniform(0, T, p) #(low, high, size)\n",
    "    counts = 0\n",
    "    countf = p-1\n",
    "    \n",
    "    while(countf>=counts):\n",
    "        p=pois(theta)    #each event generates p offspring according to a Poisson r.v. with parameter theta\n",
    "        for j in range(0, p):\n",
    "            temp=times[counts]-np.log(np.random.rand())/w    \n",
    "            if(temp < T):    \n",
    "                times = np.append(times, temp)\n",
    "                countf=countf+1\n",
    "        counts=counts+1\n",
    "\n",
    "    times = times[0:countf]\n",
    "    \n",
    "    times = np.sort(times)\n",
    "    \n",
    "    return times \n"
   ]
  },
  {
   "cell_type": "code",
   "execution_count": 374,
   "metadata": {},
   "outputs": [],
   "source": [
    "test = ESTProcess(mu[19][23], sum(theta), sum(w), 700)"
   ]
  },
  {
   "cell_type": "code",
   "execution_count": 375,
   "metadata": {},
   "outputs": [],
   "source": [
    "for i in range(0, len(test)):\n",
    "    date = full_data.DATE_TIME[0] + datetime.timedelta(days = test[i])\n",
    "    print(date)"
   ]
  },
  {
   "cell_type": "code",
   "execution_count": null,
   "metadata": {},
   "outputs": [],
   "source": [
    "# Todo: poisson process for each grid cell of importance. \n",
    "# for x in range(0, xsize):\n",
    "    # for y in range(0, ysize):\n",
    "        #...\n",
    "# Generate array in form of [[event time, x, y], [event time, x, y]...]. Sort by event time. \n",
    "# Should produce list of potential events with corresponding grid locations"
   ]
  }
 ],
 "metadata": {
  "kernelspec": {
   "display_name": "Python 3",
   "language": "python",
   "name": "python3"
  },
  "language_info": {
   "codemirror_mode": {
    "name": "ipython",
    "version": 3
   },
   "file_extension": ".py",
   "mimetype": "text/x-python",
   "name": "python",
   "nbconvert_exporter": "python",
   "pygments_lexer": "ipython3",
   "version": "3.6.5"
  }
 },
 "nbformat": 4,
 "nbformat_minor": 2
}
