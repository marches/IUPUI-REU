{
 "cells": [
  {
   "cell_type": "code",
   "execution_count": 1,
   "metadata": {},
   "outputs": [],
   "source": [
    "import pandas as pd\n",
    "import numpy as np\n",
    "from math import *\n",
    "from random import *\n",
    "import datetime as datetime\n",
    "import matplotlib.pyplot as plt"
   ]
  },
  {
   "cell_type": "code",
   "execution_count": 27,
   "metadata": {},
   "outputs": [],
   "source": [
    "def assign_to_grid(xcord, ycord, xgridsize, ygridsize, xmin, xrange, ymin, yrange):\n",
    "    # Assign a lat and long coordinate to a grid location. Input xcord, ycord as lat/long to be mapped\n",
    "    # gridsize is dimension of matrix\n",
    "    # min is smallest lat/long coordinate, range is max(xcoordinate) - min(xcoordinate) and repeat for y\n",
    "    \n",
    "    xbin = int((xcord-xmin)/(xmax-xmin)*(xgridsize-1))\n",
    "    ybin = int((ycord-ymin)/(ymax-ymin)*(ygridsize-1))\n",
    "    return xbin, ybin\n",
    "\n",
    "#xmax =  data['XCOORD'].max()\n",
    "#xmin =  data['XCOORD'].min()\n",
    "#xrange = xmax-xmin\n",
    "#ymax =  data['YCOORD'].max()\n",
    "#ymin =  data['YCOORD'].min()\n",
    "#yrange = ymax-ymin\n",
    "\n",
    "#xgridsize = 50\n",
    "#ygridsize = int(xgridsize*yrange/xrange)\n",
    "\n",
    "#points = []\n",
    "#for i in range(0, 400):\n",
    "#    point = assign_to_grid(data['XCOORD'][i], data['YCOORD'][i], xgridsize, ygridsize, xmin, xrange, ymin, yrange)\n",
    "#    points.append(point)\n",
    "#plt.plot(*zip(*points), marker='o', color='b', ls='')\n",
    "#plt.title(\"Gridded Event Locations\")"
   ]
  },
  {
   "cell_type": "code",
   "execution_count": 198,
   "metadata": {},
   "outputs": [],
   "source": [
    "def global_update(F_xy, w, time_delta_last_time, theta, mu_xy):\n",
    "# Decay triggering exponentials and calculate current intensities for all grids\n",
    "    for k in range(0, len(w)):\n",
    "        F_xy[k] = F_xy[k] * np.exp(-1*w[k]*time_delta_last_time)\n",
    "        # To possibly avoid underflow problem\n",
    "        if F_xy[k] < 1e-70:\n",
    "            F_xy[k] = 1e-70\n",
    "    Lam_xy = mu_xy+sum(F_xy)\n",
    "    \n",
    "    return F_xy, Lam_xy"
   ]
  },
  {
   "cell_type": "code",
   "execution_count": 206,
   "metadata": {},
   "outputs": [],
   "source": [
    "def event_update(mu_g, Lam_g, time_delta_last_g_time, theta, w, F_g, time_delta_last_time):\n",
    "# update mu, theta and triggering exponentials for grids where event occurred\n",
    "    dt = .005 \n",
    "    mu_g = mu_g + dt*(mu_g/Lam_g - mu_g*time_delta_last_g_time)\n",
    "    for k in range(0, len(w)):\n",
    "        theta[k] = theta[k] + dt * (F_g[k]/Lam_g-theta[k])\n",
    "        F_g[k] = F_g[k] + w[k]*theta[k]\n",
    "    return mu_g, theta, F_g"
   ]
  },
  {
   "cell_type": "markdown",
   "metadata": {},
   "source": [
    "#### Actual data"
   ]
  },
  {
   "cell_type": "code",
   "execution_count": 164,
   "metadata": {},
   "outputs": [
    {
     "name": "stderr",
     "output_type": "stream",
     "text": [
      "/home/march/anaconda3/lib/python3.6/site-packages/IPython/core/interactiveshell.py:2785: DtypeWarning: Columns (4) have mixed types. Specify dtype option on import or set low_memory=False.\n",
      "  interactivity=interactivity, compiler=compiler, result=result)\n"
     ]
    },
    {
     "data": {
      "text/html": [
       "<div>\n",
       "<style scoped>\n",
       "    .dataframe tbody tr th:only-of-type {\n",
       "        vertical-align: middle;\n",
       "    }\n",
       "\n",
       "    .dataframe tbody tr th {\n",
       "        vertical-align: top;\n",
       "    }\n",
       "\n",
       "    .dataframe thead th {\n",
       "        text-align: right;\n",
       "    }\n",
       "</style>\n",
       "<table border=\"1\" class=\"dataframe\">\n",
       "  <thead>\n",
       "    <tr style=\"text-align: right;\">\n",
       "      <th></th>\n",
       "      <th>Unnamed: 0</th>\n",
       "      <th>Unnamed: 0.1</th>\n",
       "      <th>CALL_NO</th>\n",
       "      <th>UNIT_DISPATCH_DATE</th>\n",
       "      <th>DISPATCH_TIME</th>\n",
       "      <th>CALL_TYPE_FINAL</th>\n",
       "      <th>CALL_TYPE_FINAL_D</th>\n",
       "      <th>XCOORD</th>\n",
       "      <th>YCOORD</th>\n",
       "      <th>DATE_TIME</th>\n",
       "    </tr>\n",
       "  </thead>\n",
       "  <tbody>\n",
       "    <tr>\n",
       "      <th>0</th>\n",
       "      <td>0</td>\n",
       "      <td>0</td>\n",
       "      <td>61209515</td>\n",
       "      <td>2006-12-28</td>\n",
       "      <td>44548</td>\n",
       "      <td>773A</td>\n",
       "      <td>UNCONSCIOUS PERS</td>\n",
       "      <td>39.824332</td>\n",
       "      <td>-86.236119</td>\n",
       "      <td>2006-12-28 04:45:48</td>\n",
       "    </tr>\n",
       "    <tr>\n",
       "      <th>1</th>\n",
       "      <td>1</td>\n",
       "      <td>1</td>\n",
       "      <td>61209516</td>\n",
       "      <td>2006-12-28</td>\n",
       "      <td>44853</td>\n",
       "      <td>774A</td>\n",
       "      <td>ASSAULT/TRAUMA</td>\n",
       "      <td>39.781627</td>\n",
       "      <td>-86.120826</td>\n",
       "      <td>2006-12-28 04:48:53</td>\n",
       "    </tr>\n",
       "    <tr>\n",
       "      <th>2</th>\n",
       "      <td>2</td>\n",
       "      <td>2</td>\n",
       "      <td>61209517</td>\n",
       "      <td>2006-12-28</td>\n",
       "      <td>45219</td>\n",
       "      <td>768A</td>\n",
       "      <td>SEIZURE</td>\n",
       "      <td>39.756840</td>\n",
       "      <td>-85.998714</td>\n",
       "      <td>2006-12-28 04:52:19</td>\n",
       "    </tr>\n",
       "    <tr>\n",
       "      <th>3</th>\n",
       "      <td>3</td>\n",
       "      <td>3</td>\n",
       "      <td>61209519</td>\n",
       "      <td>2006-12-28</td>\n",
       "      <td>51057</td>\n",
       "      <td>773A</td>\n",
       "      <td>UNCONSCIOUS PERS</td>\n",
       "      <td>39.782064</td>\n",
       "      <td>-86.044592</td>\n",
       "      <td>2006-12-28 05:10:57</td>\n",
       "    </tr>\n",
       "    <tr>\n",
       "      <th>4</th>\n",
       "      <td>4</td>\n",
       "      <td>4</td>\n",
       "      <td>61209520</td>\n",
       "      <td>2006-12-28</td>\n",
       "      <td>51756</td>\n",
       "      <td>790A</td>\n",
       "      <td>*MEDICAL ALARM</td>\n",
       "      <td>39.742415</td>\n",
       "      <td>-86.111559</td>\n",
       "      <td>2006-12-28 05:17:56</td>\n",
       "    </tr>\n",
       "  </tbody>\n",
       "</table>\n",
       "</div>"
      ],
      "text/plain": [
       "   Unnamed: 0  Unnamed: 0.1   CALL_NO UNIT_DISPATCH_DATE DISPATCH_TIME  \\\n",
       "0           0             0  61209515         2006-12-28         44548   \n",
       "1           1             1  61209516         2006-12-28         44853   \n",
       "2           2             2  61209517         2006-12-28         45219   \n",
       "3           3             3  61209519         2006-12-28         51057   \n",
       "4           4             4  61209520         2006-12-28         51756   \n",
       "\n",
       "  CALL_TYPE_FINAL CALL_TYPE_FINAL_D     XCOORD     YCOORD           DATE_TIME  \n",
       "0            773A  UNCONSCIOUS PERS  39.824332 -86.236119 2006-12-28 04:45:48  \n",
       "1            774A    ASSAULT/TRAUMA  39.781627 -86.120826 2006-12-28 04:48:53  \n",
       "2            768A           SEIZURE  39.756840 -85.998714 2006-12-28 04:52:19  \n",
       "3            773A  UNCONSCIOUS PERS  39.782064 -86.044592 2006-12-28 05:10:57  \n",
       "4            790A    *MEDICAL ALARM  39.742415 -86.111559 2006-12-28 05:17:56  "
      ]
     },
     "execution_count": 164,
     "metadata": {},
     "output_type": "execute_result"
    }
   ],
   "source": [
    "full_data = pd.read_csv('FixedLatLongTimeLoc_AndTimeSorted.csv')\n",
    "full_data['DATE_TIME'] =  pd.to_datetime(full_data['DATE_TIME'], format='%Y-%m-%d %H:%M:%S')\n",
    "full_data.head()"
   ]
  },
  {
   "cell_type": "code",
   "execution_count": 165,
   "metadata": {},
   "outputs": [],
   "source": [
    "Event_Type_Lookup = {}\n",
    "for i in range(0, len(full_data)):\n",
    "    key = full_data.CALL_TYPE_FINAL[i]\n",
    "    val = full_data.CALL_TYPE_FINAL_D[i]\n",
    "    Event_Type_Lookup.setdefault(key, [])\n",
    "    Event_Type_Lookup[key].append(val)"
   ]
  },
  {
   "cell_type": "code",
   "execution_count": 202,
   "metadata": {},
   "outputs": [],
   "source": [
    "# select subset of data to work with\n",
    "data = full_data[600250:601070]\n",
    "data.reset_index(drop=True, inplace=True)"
   ]
  },
  {
   "cell_type": "code",
   "execution_count": 138,
   "metadata": {},
   "outputs": [
    {
     "data": {
      "text/plain": [
       "{'divide': 'print', 'over': 'print', 'under': 'print', 'invalid': 'print'}"
      ]
     },
     "execution_count": 138,
     "metadata": {},
     "output_type": "execute_result"
    }
   ],
   "source": [
    "np.seterr(all='warn')"
   ]
  },
  {
   "cell_type": "code",
   "execution_count": 209,
   "metadata": {},
   "outputs": [
    {
     "name": "stderr",
     "output_type": "stream",
     "text": [
      "/home/march/anaconda3/lib/python3.6/site-packages/ipykernel_launcher.py:4: RuntimeWarning: underflow encountered in double_scalars\n",
      "  after removing the cwd from sys.path.\n"
     ]
    }
   ],
   "source": [
    "# set up grid sizing\n",
    "xmax =  data['XCOORD'].max()\n",
    "xmin =  data['XCOORD'].min()\n",
    "xrange = xmax-xmin\n",
    "ymax =  data['YCOORD'].max()\n",
    "ymin =  data['YCOORD'].min()\n",
    "yrange = ymax-ymin\n",
    "\n",
    "ygridsize = 100\n",
    "xgridsize = 100\n",
    "\n",
    "# initial parameters\n",
    "w = [.5, .1, .05]\n",
    "theta = [.5, .4, .3]\n",
    "\n",
    "mu = np.ones([xgridsize, ygridsize])*.1\n",
    "F = np.ones([xgridsize, ygridsize, len(w)])\n",
    "Lam = np.ones([len(data), xgridsize, ygridsize])*0.0001\n",
    "\n",
    "# for storing time of past event in specific grid cell\n",
    "G_times = pd.DataFrame(np.zeros([xgridsize, ygridsize]))\n",
    "G_times[:] = data.DATE_TIME[0]\n",
    "\n",
    "# (tracking model parameters)\n",
    "theta_track = np.zeros([len(data), len(theta)])\n",
    "\n",
    "for i in range(1, len(data)):\n",
    "    # assign event to a grid\n",
    "    gx, gy = assign_to_grid(data.XCOORD[i], data.YCOORD[i], xgridsize, ygridsize, xmin, xrange, ymin, yrange)\n",
    "    # time since last event in any grid box \n",
    "    time_delta = (data.DATE_TIME[i]- data.DATE_TIME[i-1]).total_seconds()\n",
    "    \n",
    "    # update exponentials, intensities for all grid boxes\n",
    "    for x in range(xgridsize):\n",
    "        for y in range(ygridsize):\n",
    "            F[x][y], Lam[i][x][y] = global_update(F[x][y], w, time_delta, theta, mu[x][y]) \n",
    "            \n",
    "    # find last time event occurred at this grid location\n",
    "    last_g_time = pd.to_datetime(G_times.at[gx,gy])\n",
    "    # find delta between last event time and current time. \n",
    "    g_time_delta = (data.DATE_TIME[i] - last_g_time).total_seconds()\n",
    "    # update event time for this location\n",
    "    G_times.at[gx,gy] = data.DATE_TIME[i]\n",
    "    \n",
    "    # update model parameters based on grid box where current event happened\n",
    "    mu[gx][gy], theta, F[gx][gy] = event_update(mu[gx][gy], Lam[i][gx][gy], g_time_delta, theta, w, F[gx][gy], time_delta)\n",
    "    \n",
    "    # (tracking model parameters)\n",
    "    theta_track[i] = theta\n",
    "    \n",
    "    #print(i/events*100) F_xy is really small\n"
   ]
  },
  {
   "cell_type": "code",
   "execution_count": 210,
   "metadata": {},
   "outputs": [
    {
     "data": {
      "image/png": "[encoded data removed]",
      "text/plain": [
       "<Figure size 432x288 with 1 Axes>"
      ]
     },
     "metadata": {},
     "output_type": "display_data"
    }
   ],
   "source": [
    "t_est = []\n",
    "for i in range(0, len(data)):\n",
    "    t_est.append(sum(theta_track[i]))\n",
    "plt.plot(t_est, 'b.')\n",
    "plt.title('Training data points vs. Theta values. Theta1, b; Theta2, g, Theta3, r')\n",
    "plt.show()\n"
   ]
  },
  {
   "cell_type": "code",
   "execution_count": null,
   "metadata": {},
   "outputs": [
    {
     "data": {
      "image/png": "[encoded data removed]",
      "text/plain": [
       "<Figure size 1440x720 with 1 Axes>"
      ]
     },
     "metadata": {},
     "output_type": "display_data"
    }
   ],
   "source": [
    "import time\n",
    "import pylab as pl\n",
    "from IPython import display\n",
    "plt.figure(figsize=(20,10))\n",
    "end = len(data)\n",
    "for n in range(0, int(end/20)): \n",
    "    i = n*20\n",
    "    plt.title('Time snippet of intensities at '+data.DATE_TIME[i].strftime('%Y-%m-%d%H:%M:%S') + ' ('+str(i)+' of ' + str(end) +')')\n",
    "    plt.imshow((Lam[i]), cmap = 'hot', interpolation = 'nearest', vmin = 0, vmax = 225)\n",
    "    display.clear_output(wait=True)\n",
    "    display.display(pl.gcf())\n",
    "    time.sleep(.0005)\n",
    "# color scale from black (low) to white (high)"
   ]
  },
  {
   "cell_type": "code",
   "execution_count": 226,
   "metadata": {
    "scrolled": false
   },
   "outputs": [
    {
     "data": {
      "image/png": "[encoded data removed]",
      "text/plain": [
       "<Figure size 1440x720 with 1 Axes>"
      ]
     },
     "metadata": {},
     "output_type": "display_data"
    }
   ],
   "source": [
    "data_intensity = np.zeros([xgridsize, ygridsize])\n",
    "for i in range(0, len(data)):\n",
    "    x, y = assign_to_grid(data['XCOORD'][i], data['YCOORD'][i], xgridsize, ygridsize, xmin, xrange, ymin, yrange)\n",
    "    data_intensity[x][y] = data_intensity[x][y] + 1\n",
    "\n",
    "plt.figure(figsize=(20,10))\n",
    "plt.imshow(data_intensity, cmap = 'hot', interpolation = 'nearest')\n",
    "plt.title(\"Number of events in each grid\")\n",
    "plt.show()"
   ]
  },
  {
   "cell_type": "code",
   "execution_count": null,
   "metadata": {},
   "outputs": [],
   "source": []
  },
  {
   "cell_type": "code",
   "execution_count": null,
   "metadata": {},
   "outputs": [],
   "source": []
  }
 ],
 "metadata": {
  "kernelspec": {
   "display_name": "Python 3",
   "language": "python",
   "name": "python3"
  },
  "language_info": {
   "codemirror_mode": {
    "name": "ipython",
    "version": 3
   },
   "file_extension": ".py",
   "mimetype": "text/x-python",
   "name": "python",
   "nbconvert_exporter": "python",
   "pygments_lexer": "ipython3",
   "version": "3.6.5"
  }
 },
 "nbformat": 4,
 "nbformat_minor": 2
}
