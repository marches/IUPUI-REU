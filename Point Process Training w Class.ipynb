{
 "cells": [
  {
   "cell_type": "code",
   "execution_count": 5,
   "metadata": {},
   "outputs": [],
   "source": [
    "import pandas as pd\n",
    "import numpy as np\n",
    "from math import *\n",
    "from random import *\n",
    "import datetime as datetime\n",
    "import matplotlib.pyplot as plt\n",
    "import math\n",
    "from numpy import unravel_index\n",
    "from PointProcess import PointProcessTrain\n",
    "from PointProcess import PointProcessRun"
   ]
  },
  {
   "cell_type": "code",
   "execution_count": 6,
   "metadata": {
    "scrolled": true
   },
   "outputs": [],
   "source": [
    "fields = ['XCOORD', 'YCOORD', 'CALL_TYPE_FINAL_D', 'CALL_TYPE_FINAL', 'DATE_TIME']\n",
    "full_data = pd.read_csv('FixedLatLongTimeLoc_AndTimeSorted.csv', usecols=fields)\n",
    "\n",
    "full_data['DATE_TIME'] =  pd.to_datetime(full_data['DATE_TIME'], format='%Y-%m-%d %H:%M:%S')\n",
    "full_data = full_data.sort_values(by='DATE_TIME')"
   ]
  },
  {
   "cell_type": "code",
   "execution_count": 7,
   "metadata": {},
   "outputs": [
    {
     "data": {
      "text/html": [
       "<div>\n",
       "<style scoped>\n",
       "    .dataframe tbody tr th:only-of-type {\n",
       "        vertical-align: middle;\n",
       "    }\n",
       "\n",
       "    .dataframe tbody tr th {\n",
       "        vertical-align: top;\n",
       "    }\n",
       "\n",
       "    .dataframe thead th {\n",
       "        text-align: right;\n",
       "    }\n",
       "</style>\n",
       "<table border=\"1\" class=\"dataframe\">\n",
       "  <thead>\n",
       "    <tr style=\"text-align: right;\">\n",
       "      <th></th>\n",
       "      <th>CALL_TYPE_FINAL</th>\n",
       "      <th>CALL_TYPE_FINAL_D</th>\n",
       "      <th>YCOORD</th>\n",
       "      <th>XCOORD</th>\n",
       "      <th>DATE_TIME</th>\n",
       "    </tr>\n",
       "  </thead>\n",
       "  <tbody>\n",
       "    <tr>\n",
       "      <th>0</th>\n",
       "      <td>775A</td>\n",
       "      <td>DIABETIC</td>\n",
       "      <td>39.744822</td>\n",
       "      <td>-86.133730</td>\n",
       "      <td>2016-08-21 05:15:47</td>\n",
       "    </tr>\n",
       "    <tr>\n",
       "      <th>1</th>\n",
       "      <td>770B</td>\n",
       "      <td>ABDOMIN/BACK PN</td>\n",
       "      <td>39.883948</td>\n",
       "      <td>-86.177633</td>\n",
       "      <td>2016-08-21 05:19:49</td>\n",
       "    </tr>\n",
       "    <tr>\n",
       "      <th>2</th>\n",
       "      <td>770B</td>\n",
       "      <td>ABDOMIN/BACK PN</td>\n",
       "      <td>39.795276</td>\n",
       "      <td>-86.163197</td>\n",
       "      <td>2016-08-21 05:20:41</td>\n",
       "    </tr>\n",
       "    <tr>\n",
       "      <th>3</th>\n",
       "      <td>770A</td>\n",
       "      <td>ABDOMIN/BACK PN</td>\n",
       "      <td>39.646971</td>\n",
       "      <td>-86.119972</td>\n",
       "      <td>2016-08-21 05:28:21</td>\n",
       "    </tr>\n",
       "    <tr>\n",
       "      <th>4</th>\n",
       "      <td>764B</td>\n",
       "      <td>NEURO/HEAD INJ</td>\n",
       "      <td>39.811284</td>\n",
       "      <td>-86.071995</td>\n",
       "      <td>2016-08-21 05:29:41</td>\n",
       "    </tr>\n",
       "  </tbody>\n",
       "</table>\n",
       "</div>"
      ],
      "text/plain": [
       "  CALL_TYPE_FINAL CALL_TYPE_FINAL_D     YCOORD     XCOORD           DATE_TIME\n",
       "0            775A          DIABETIC  39.744822 -86.133730 2016-08-21 05:15:47\n",
       "1            770B   ABDOMIN/BACK PN  39.883948 -86.177633 2016-08-21 05:19:49\n",
       "2            770B   ABDOMIN/BACK PN  39.795276 -86.163197 2016-08-21 05:20:41\n",
       "3            770A   ABDOMIN/BACK PN  39.646971 -86.119972 2016-08-21 05:28:21\n",
       "4            764B    NEURO/HEAD INJ  39.811284 -86.071995 2016-08-21 05:29:41"
      ]
     },
     "execution_count": 7,
     "metadata": {},
     "output_type": "execute_result"
    }
   ],
   "source": [
    "start = 900000\n",
    "end = start + 2000\n",
    "data = full_data[start:end]\n",
    "data.reset_index(drop=True, inplace=True)\n",
    "\n",
    "all_events = PointProcessTrain(data, xgridsize = 50, ygridsize = 50, w = [.1, .01,.0001], time_scale_label = '15minutes')\n",
    "\n",
    "data.head()\n"
   ]
  },
  {
   "cell_type": "code",
   "execution_count": 8,
   "metadata": {},
   "outputs": [],
   "source": [
    "all_events.train()"
   ]
  },
  {
   "cell_type": "code",
   "execution_count": 9,
   "metadata": {
    "scrolled": true
   },
   "outputs": [
    {
     "data": {
      "image/png": "[encoded data removed]",
      "text/plain": [
       "<Figure size 432x288 with 1 Axes>"
      ]
     },
     "metadata": {},
     "output_type": "display_data"
    },
    {
     "name": "stdout",
     "output_type": "stream",
     "text": [
      "\n",
      "Hour vector: \n",
      "[0.04352405 0.05271239 0.0738802  0.03580442 0.01802073 0.06337293\n",
      " 0.02370859 0.0555141  0.05078807 0.03697089 0.02179373 0.02343741\n",
      " 0.03269422 0.02983343 0.02473784 0.04027098 0.0304893  0.05707928\n",
      " 0.0617833  0.06047177 0.04672737 0.02973016 0.03944448 0.04721036]\n",
      "Day vector: \n",
      "[9.25857953e-33 9.14812943e-26 1.85348804e-18 5.40778975e-10\n",
      " 1.21403172e-02 9.87859682e-01 9.37033883e-40]\n"
     ]
    }
   ],
   "source": [
    "all_events.param_examine()"
   ]
  },
  {
   "cell_type": "code",
   "execution_count": 10,
   "metadata": {},
   "outputs": [
    {
     "name": "stdout",
     "output_type": "stream",
     "text": [
      "Location and value of largest and smallest sum(Lambda): \n",
      "102.10977065580549 (17, 20) 5.6723811796088786 (0, 0)\n",
      "\n",
      "Location of grid with most events:\n",
      "31.0 (17, 21)\n",
      "\n",
      "Historical time period is 277.01219452099997 15minutes\n",
      "\n",
      "Trained hotspots in real top 10\n",
      "Grid: (17, 20), Model: 28.285651651400688, Real: 30\n",
      "Grid: (17, 21), Model: 24.589449706336406, Real: 31\n",
      "Grid: (17, 27), Model: 16.358373243837804, Real: 13\n",
      "Grid: (17, 22), Model: 15.983553085490176, Real: 13\n",
      "Grid: (20, 21), Model: 13.99518214483804, Real: 12\n",
      "Grid: (19, 22), Model: 13.459817067285943, Real: 14\n",
      "Grid: (16, 25), Model: 11.94161839984701, Real: 14\n",
      "Grid: (26, 28), Model: 11.898369489654383, Real: 12\n",
      "\n",
      "Trained hotstpots not in real top 10\n",
      "Grid: (22, 23), Model: 11.368389200771533, Real: 11\n",
      "Grid: (19, 19), Model: 11.252763299941309, Real: 4\n",
      "\n",
      "Real top 10 hotspots not in trained model\n",
      "Grid: (16, 21), Model: 10.997776020080698, Real: 12\n",
      "Grid: (17, 25), Model: 10.578997351407885, Real: 11\n"
     ]
    }
   ],
   "source": [
    "all_events.model_hotspot_examine(1000)"
   ]
  },
  {
   "cell_type": "code",
   "execution_count": 13,
   "metadata": {
    "scrolled": false
   },
   "outputs": [
    {
     "name": "stdout",
     "output_type": "stream",
     "text": [
      "Intensities are in units of #/15minutes\n",
      "\n",
      "Predicting over time of 302.794414165 15minutes. Generating 303 intensity prediction(s)\n",
      "\n",
      "Predicted hotspots in real top 10\n",
      "Grid: (17, 21), Model: 1133.1037984238046, Real: 28.0\n",
      "Grid: (17, 20), Model: 832.461710423476, Real: 41.0\n",
      "Grid: (17, 27), Model: 507.11388239599927, Real: 19.0\n",
      "Grid: (20, 21), Model: 455.9529450097987, Real: 12.0\n",
      "Grid: (17, 22), Model: 405.74799196247324, Real: 12.0\n",
      "Grid: (21, 21), Model: 398.44156392136097, Real: 17.0\n",
      "\n",
      "Predicted hotstpots not in real top 10\n",
      "Grid: (20, 22), Model: 539.018428981373, Real: 4.0\n",
      "Grid: (19, 22), Model: 477.37486628548186, Real: 8.0\n",
      "Grid: (18, 25), Model: 421.37526031876826, Real: 9.0\n",
      "Grid: (16, 25), Model: 394.9324113817205, Real: 10.0\n",
      "\n",
      "Real top 10  hotspots not predicted\n",
      "Grid: (14, 23), Model: 110.00120452947513, Real: 13.0\n",
      "Grid: (19, 6), Model: 116.101350084645, Real: 13.0\n",
      "Grid: (19, 23), Model: 202.67606298134365, Real: 12.0\n",
      "Grid: (19, 21), Model: 152.0089779494114, Real: 11.0\n"
     ]
    }
   ],
   "source": [
    "test_points = full_data[end:end+1000]\n",
    "test_points.reset_index(drop=True, inplace=True)\n",
    "all_events_simulate = PointProcessRun()\n",
    "intensities1, pred1 = all_events_simulate.test_projection(test_points)"
   ]
  },
  {
   "cell_type": "code",
   "execution_count": null,
   "metadata": {},
   "outputs": [],
   "source": []
  }
 ],
 "metadata": {
  "kernelspec": {
   "display_name": "Python 3",
   "language": "python",
   "name": "python3"
  },
  "language_info": {
   "codemirror_mode": {
    "name": "ipython",
    "version": 3
   },
   "file_extension": ".py",
   "mimetype": "text/x-python",
   "name": "python",
   "nbconvert_exporter": "python",
   "pygments_lexer": "ipython3",
   "version": "3.6.5"
  }
 },
 "nbformat": 4,
 "nbformat_minor": 2
}
