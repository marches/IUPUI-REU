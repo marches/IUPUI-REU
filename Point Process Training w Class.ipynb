{
 "cells": [
  {
   "cell_type": "code",
   "execution_count": 1,
   "metadata": {},
   "outputs": [],
   "source": [
    "import pandas as pd\n",
    "import numpy as np\n",
    "from math import *\n",
    "from random import *\n",
    "import datetime as datetime\n",
    "import matplotlib.pyplot as plt\n",
    "import math\n",
    "from numpy import unravel_index\n",
    "from PointProcess import PointProcessTrain"
   ]
  },
  {
   "cell_type": "code",
   "execution_count": 2,
   "metadata": {},
   "outputs": [
    {
     "data": {
      "text/html": [
       "<div>\n",
       "<style scoped>\n",
       "    .dataframe tbody tr th:only-of-type {\n",
       "        vertical-align: middle;\n",
       "    }\n",
       "\n",
       "    .dataframe tbody tr th {\n",
       "        vertical-align: top;\n",
       "    }\n",
       "\n",
       "    .dataframe thead th {\n",
       "        text-align: right;\n",
       "    }\n",
       "</style>\n",
       "<table border=\"1\" class=\"dataframe\">\n",
       "  <thead>\n",
       "    <tr style=\"text-align: right;\">\n",
       "      <th></th>\n",
       "      <th>CALL_TYPE_FINAL</th>\n",
       "      <th>CALL_TYPE_FINAL_D</th>\n",
       "      <th>YCOORD</th>\n",
       "      <th>XCOORD</th>\n",
       "      <th>DATE_TIME</th>\n",
       "    </tr>\n",
       "  </thead>\n",
       "  <tbody>\n",
       "    <tr>\n",
       "      <th>0</th>\n",
       "      <td>773A</td>\n",
       "      <td>UNCONSCIOUS PERS</td>\n",
       "      <td>39.824332</td>\n",
       "      <td>-86.236119</td>\n",
       "      <td>2006-12-28 04:45:48</td>\n",
       "    </tr>\n",
       "    <tr>\n",
       "      <th>1</th>\n",
       "      <td>774A</td>\n",
       "      <td>ASSAULT/TRAUMA</td>\n",
       "      <td>39.781627</td>\n",
       "      <td>-86.120826</td>\n",
       "      <td>2006-12-28 04:48:53</td>\n",
       "    </tr>\n",
       "    <tr>\n",
       "      <th>2</th>\n",
       "      <td>768A</td>\n",
       "      <td>SEIZURE</td>\n",
       "      <td>39.756840</td>\n",
       "      <td>-85.998714</td>\n",
       "      <td>2006-12-28 04:52:19</td>\n",
       "    </tr>\n",
       "    <tr>\n",
       "      <th>3</th>\n",
       "      <td>773A</td>\n",
       "      <td>UNCONSCIOUS PERS</td>\n",
       "      <td>39.782064</td>\n",
       "      <td>-86.044592</td>\n",
       "      <td>2006-12-28 05:10:57</td>\n",
       "    </tr>\n",
       "    <tr>\n",
       "      <th>4</th>\n",
       "      <td>790A</td>\n",
       "      <td>*MEDICAL ALARM</td>\n",
       "      <td>39.742415</td>\n",
       "      <td>-86.111559</td>\n",
       "      <td>2006-12-28 05:17:56</td>\n",
       "    </tr>\n",
       "  </tbody>\n",
       "</table>\n",
       "</div>"
      ],
      "text/plain": [
       "  CALL_TYPE_FINAL CALL_TYPE_FINAL_D     YCOORD     XCOORD           DATE_TIME\n",
       "0            773A  UNCONSCIOUS PERS  39.824332 -86.236119 2006-12-28 04:45:48\n",
       "1            774A    ASSAULT/TRAUMA  39.781627 -86.120826 2006-12-28 04:48:53\n",
       "2            768A           SEIZURE  39.756840 -85.998714 2006-12-28 04:52:19\n",
       "3            773A  UNCONSCIOUS PERS  39.782064 -86.044592 2006-12-28 05:10:57\n",
       "4            790A    *MEDICAL ALARM  39.742415 -86.111559 2006-12-28 05:17:56"
      ]
     },
     "execution_count": 2,
     "metadata": {},
     "output_type": "execute_result"
    }
   ],
   "source": [
    "fields = ['XCOORD', 'YCOORD', 'CALL_TYPE_FINAL_D', 'CALL_TYPE_FINAL', 'DATE_TIME']\n",
    "full_data = pd.read_csv('FixedLatLongTimeLoc_AndTimeSorted.csv', usecols=fields)\n",
    "\n",
    "full_data['DATE_TIME'] =  pd.to_datetime(full_data['DATE_TIME'], format='%Y-%m-%d %H:%M:%S')\n",
    "full_data = full_data.sort_values(by='DATE_TIME')\n",
    "full_data.head()"
   ]
  },
  {
   "cell_type": "code",
   "execution_count": 2,
   "metadata": {},
   "outputs": [
    {
     "ename": "NameError",
     "evalue": "name 'full_data' is not defined",
     "output_type": "error",
     "traceback": [
      "\u001b[0;31m---------------------------------------------------------------------------\u001b[0m",
      "\u001b[0;31mNameError\u001b[0m                                 Traceback (most recent call last)",
      "\u001b[0;32m<ipython-input-2-fa2f1956f1be>\u001b[0m in \u001b[0;36m<module>\u001b[0;34m()\u001b[0m\n\u001b[1;32m      1\u001b[0m \u001b[0mEvent_Type_Lookup\u001b[0m \u001b[0;34m=\u001b[0m \u001b[0;34m{\u001b[0m\u001b[0;34m}\u001b[0m\u001b[0;34m\u001b[0m\u001b[0m\n\u001b[0;32m----> 2\u001b[0;31m \u001b[0;32mfor\u001b[0m \u001b[0mi\u001b[0m \u001b[0;32min\u001b[0m \u001b[0mrange\u001b[0m\u001b[0;34m(\u001b[0m\u001b[0;36m0\u001b[0m\u001b[0;34m,\u001b[0m \u001b[0mlen\u001b[0m\u001b[0;34m(\u001b[0m\u001b[0mfull_data\u001b[0m\u001b[0;34m)\u001b[0m\u001b[0;34m)\u001b[0m\u001b[0;34m:\u001b[0m\u001b[0;34m\u001b[0m\u001b[0m\n\u001b[0m\u001b[1;32m      3\u001b[0m     \u001b[0mkey\u001b[0m \u001b[0;34m=\u001b[0m \u001b[0mfull_data\u001b[0m\u001b[0;34m.\u001b[0m\u001b[0mCALL_TYPE_FINAL\u001b[0m\u001b[0;34m[\u001b[0m\u001b[0mi\u001b[0m\u001b[0;34m]\u001b[0m\u001b[0;34m\u001b[0m\u001b[0m\n\u001b[1;32m      4\u001b[0m     \u001b[0mval\u001b[0m \u001b[0;34m=\u001b[0m \u001b[0mfull_data\u001b[0m\u001b[0;34m.\u001b[0m\u001b[0mCALL_TYPE_FINAL_D\u001b[0m\u001b[0;34m[\u001b[0m\u001b[0mi\u001b[0m\u001b[0;34m]\u001b[0m\u001b[0;34m\u001b[0m\u001b[0m\n\u001b[1;32m      5\u001b[0m     \u001b[0mEvent_Type_Lookup\u001b[0m\u001b[0;34m.\u001b[0m\u001b[0msetdefault\u001b[0m\u001b[0;34m(\u001b[0m\u001b[0mkey\u001b[0m\u001b[0;34m,\u001b[0m \u001b[0;34m[\u001b[0m\u001b[0;34m]\u001b[0m\u001b[0;34m)\u001b[0m\u001b[0;34m\u001b[0m\u001b[0m\n",
      "\u001b[0;31mNameError\u001b[0m: name 'full_data' is not defined"
     ]
    }
   ],
   "source": [
    "Event_Type_Lookup = {}\n",
    "for i in range(0, len(full_data)):\n",
    "    key = full_data.CALL_TYPE_FINAL[i]\n",
    "    val = full_data.CALL_TYPE_FINAL_D[i]\n",
    "    Event_Type_Lookup.setdefault(key, [])\n",
    "    if val not in Event_Type_Lookup[key]:\n",
    "        Event_Type_Lookup[key].append(val)"
   ]
  },
  {
   "cell_type": "code",
   "execution_count": 12,
   "metadata": {},
   "outputs": [],
   "source": [
    "data = full_data[300000:302000]\n",
    "data.reset_index(drop=True, inplace=True)\n",
    "all_events = PointProcessTrain(data, xgridsize = 75, ygridsize = 75, w = [1,.1, .05])"
   ]
  },
  {
   "cell_type": "code",
   "execution_count": 13,
   "metadata": {},
   "outputs": [],
   "source": [
    "all_events.train()"
   ]
  },
  {
   "cell_type": "code",
   "execution_count": 14,
   "metadata": {
    "scrolled": true
   },
   "outputs": [
    {
     "data": {
      "image/png": "[encoded data removed]",
      "text/plain": [
       "<Figure size 432x288 with 1 Axes>"
      ]
     },
     "metadata": {},
     "output_type": "display_data"
    },
    {
     "name": "stdout",
     "output_type": "stream",
     "text": [
      "\n",
      "Hour vector: \n",
      "[5.00002496e-02 2.93703279e-07 6.61515251e-07 5.52860346e-07\n",
      " 7.52096310e-07 6.46566195e-07 1.25613746e-06 4.98146308e-06\n",
      " 5.70437067e-06 6.66431397e-06 1.87917914e-05 7.31618099e-05\n",
      " 8.64564666e-05 1.51998110e-04 2.06802455e-04 7.78356307e-04\n",
      " 1.54963704e-03 4.38156623e-03 6.89101997e-03 2.14880755e-02\n",
      " 4.12970696e-02 8.08342941e-02 2.00706788e-01 5.91514220e-01]\n",
      "Day vector: \n",
      "[4.94328043e-26 2.04223038e-19 6.87208241e-13 3.29282183e-07\n",
      " 9.49999671e-01 5.00000000e-02 4.09788042e-32]\n"
     ]
    }
   ],
   "source": [
    "all_events.param_examine()"
   ]
  },
  {
   "cell_type": "code",
   "execution_count": 16,
   "metadata": {},
   "outputs": [
    {
     "name": "stdout",
     "output_type": "stream",
     "text": [
      "9277.7332430614 (27, 41) 23.874393840341668 (0, 0)\n",
      "19.0 (27, 41)\n",
      "Time period is 2.8351220914 days\n",
      "\n",
      "Top model hotspots in real top 10:\n",
      "Grid: (27, 41), Model: 32.87938309439943, Real: 19\n",
      "Grid: (27, 31), Model: 25.489065868853984, Real: 17\n",
      "Grid: (26, 31), Model: 21.72448222453959, Real: 16\n",
      "Grid: (26, 32), Model: 12.671639847865746, Real: 11\n",
      "Grid: (25, 31), Model: 10.737368482948412, Real: 11\n",
      "Grid: (26, 41), Model: 10.381435347867471, Real: 6\n",
      "Grid: (26, 34), Model: 9.759328384403185, Real: 6\n",
      "Grid: (26, 33), Model: 9.462571542478527, Real: 5\n",
      "Grid: (31, 33), Model: 9.135139424060744, Real: 8\n",
      "Grid: (29, 32), Model: 8.606882358859016, Real: 6\n",
      "Grid: (26, 28), Model: 8.517562848030861, Real: 6\n",
      "Grid: (35, 43), Model: 8.39479270530625, Real: 7\n",
      "Grid: (26, 27), Model: 7.609067303474446, Real: 6\n",
      "Grid: (34, 34), Model: 6.765362976664793, Real: 5\n",
      "\n",
      "Top model hotstpots not in real top 10\n",
      "Grid: (28, 28), Model: 7.32261948787839, Real: 4\n",
      "Grid: (26, 35), Model: 7.088519402721137, Real: 4\n",
      "Grid: (21, 37), Model: 7.002237214065917, Real: 4\n",
      "Grid: (35, 34), Model: 6.7951899471375246, Real: 4\n",
      "Grid: (22, 56), Model: 6.584076561644659, Real: 4\n",
      "Grid: (27, 26), Model: 6.307242668904272, Real: 2\n",
      "\n",
      "Real top 10 hotspots not predicted by model\n",
      "Grid: (30, 32), Model: 5.276477573490349, Real: 7\n",
      "Grid: (26, 30), Model: 5.630492773524536, Real: 6\n",
      "Grid: (29, 34), Model: 4.989404306383067, Real: 6\n",
      "Grid: (33, 34), Model: 6.078675500188865, Real: 6\n",
      "Grid: (21, 34), Model: 4.464413701898247, Real: 5\n",
      "Grid: (27, 29), Model: 5.505027679242548, Real: 5\n"
     ]
    }
   ],
   "source": [
    "all_events.top_events_all_averaged(num_points= 800, num_top_grids = 20)"
   ]
  },
  {
   "cell_type": "code",
   "execution_count": null,
   "metadata": {},
   "outputs": [],
   "source": []
  }
 ],
 "metadata": {
  "kernelspec": {
   "display_name": "Python 3",
   "language": "python",
   "name": "python3"
  },
  "language_info": {
   "codemirror_mode": {
    "name": "ipython",
    "version": 3
   },
   "file_extension": ".py",
   "mimetype": "text/x-python",
   "name": "python",
   "nbconvert_exporter": "python",
   "pygments_lexer": "ipython3",
   "version": "3.6.5"
  }
 },
 "nbformat": 4,
 "nbformat_minor": 2
}
